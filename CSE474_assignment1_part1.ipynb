{
 "cells": [
  {
   "cell_type": "code",
   "execution_count": 1,
   "metadata": {},
   "outputs": [],
   "source": [
    "import pandas as pd\n",
    "import numpy as np\n",
    "import csv"
   ]
  },
  {
   "cell_type": "code",
   "execution_count": 2,
   "metadata": {},
   "outputs": [],
   "source": [
    "filename = \"/Users/romi_sai/Desktop/College/Senior/Summer2021/CSE474/Assignments/Assignment1/insurance.csv\""
   ]
  },
  {
   "cell_type": "code",
   "execution_count": 3,
   "metadata": {},
   "outputs": [],
   "source": [
    "#opening csv & reading in rows \n",
    "#some parts of this code was found on Python Docs (https://docs.python.org/3/library/csv.html)\n",
    "with open(filename, newline='') as csvfile:\n",
    "    lines = csv.reader(csvfile)\n",
    "    rows=[]\n",
    "    for row in lines:\n",
    "        rows.append(row)"
   ]
  },
  {
   "cell_type": "code",
   "execution_count": 4,
   "metadata": {},
   "outputs": [],
   "source": [
    "#converting the smokers to binary to be able to take the inverse/transpose\n",
    "i=0\n",
    "for elem in rows:\n",
    "    if(elem[1] == 'female'):\n",
    "        elem[1] = 0\n",
    "    if(elem[1] == 'male'):\n",
    "        elem[1] = 1\n",
    "        \n",
    "    if(elem[4] == 'yes'):\n",
    "        elem[4] = 1\n",
    "    if(elem[4] == 'no'):\n",
    "        elem[4] = 0\n",
    "    \n",
    "    if(elem[5] == 'southwest'):\n",
    "        elem[5] = 0\n",
    "    if(elem[5] == 'southeast'):\n",
    "        elem[5] = 1\n",
    "    if(elem[5] == 'northwest'):\n",
    "        elem[5] = 2\n",
    "    if(elem[5] == 'northeast'):\n",
    "        elem[5] = 3\n",
    "    \n",
    "    elem.insert(0,1)"
   ]
  },
  {
   "cell_type": "code",
   "execution_count": 5,
   "metadata": {},
   "outputs": [],
   "source": [
    "#defining the training and testing datasets using lists, train = rows 1-1070 (80%) and test = rows 1071-1338 (20%)\n",
    "#setting the y list for the train and test datasets\n",
    "train=[]\n",
    "test=[]\n",
    "y_train=[]\n",
    "y_test=[]\n",
    "#y_train.append(rows[0][6])\n",
    "for i in range(1, 1071, 1):\n",
    "    train.append(rows[i])\n",
    "    y_train.append(rows[i][7])\n",
    "\n",
    "for j in range(1071, 1339, 1):\n",
    "    test.append(rows[j])\n",
    "    y_test.append(rows[j][7])"
   ]
  },
  {
   "cell_type": "code",
   "execution_count": 6,
   "metadata": {},
   "outputs": [],
   "source": [
    "#defining x train and test, to find x matrices for the two datasets\n",
    "x_train=[]\n",
    "x_test=[]\n",
    "for things in train:\n",
    "    things.remove(things[7])\n",
    "    x_train.append(things)\n",
    "\n",
    "for stuff in test:\n",
    "    stuff.remove(stuff[7])\n",
    "    x_test.append(stuff)"
   ]
  },
  {
   "cell_type": "code",
   "execution_count": 7,
   "metadata": {},
   "outputs": [],
   "source": [
    "#defining x and y matrices for the two datasets using numpy\n",
    "#this function was found on numpy docs \n",
    "xtest_matrix = np.matrix(x_test)\n",
    "xtrain_matrix = np.matrix(x_train)\n",
    "\n",
    "ytest_matrix=np.matrix(y_test)\n",
    "ytrain_matrix=np.matrix(y_train)"
   ]
  },
  {
   "cell_type": "code",
   "execution_count": 8,
   "metadata": {},
   "outputs": [],
   "source": [
    "##Step1: Find w using w = (y Xt)(Xt X)^-1 [USING ONLY TRAINING DATA]\n",
    "xtrain_t = xtrain_matrix.transpose()"
   ]
  },
  {
   "cell_type": "code",
   "execution_count": null,
   "metadata": {},
   "outputs": [],
   "source": []
  }
 ],
 "metadata": {
  "kernelspec": {
   "display_name": "Python 3",
   "language": "python",
   "name": "python3"
  },
  "language_info": {
   "codemirror_mode": {
    "name": "ipython",
    "version": 3
   },
   "file_extension": ".py",
   "mimetype": "text/x-python",
   "name": "python",
   "nbconvert_exporter": "python",
   "pygments_lexer": "ipython3",
   "version": "3.7.4"
  }
 },
 "nbformat": 4,
 "nbformat_minor": 2
}
