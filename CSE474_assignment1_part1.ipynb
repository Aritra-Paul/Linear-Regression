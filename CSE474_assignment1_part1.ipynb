{
 "cells": [
  {
   "cell_type": "code",
   "execution_count": 68,
   "metadata": {},
   "outputs": [],
   "source": [
    "import pandas as pd\n",
    "import numpy as np\n",
    "import csv\n",
    "import matplotlib.pyplot as plt\n",
    "#from sklearn.linear_model import LinearRegression, LogisticRegression, Ridge"
   ]
  },
  {
   "cell_type": "code",
   "execution_count": 69,
   "metadata": {},
   "outputs": [],
   "source": [
    "filename = \"/Users/romi_sai/Desktop/College/Senior/Summer2021/CSE474/Assignments/Assignment1/insurance.csv\""
   ]
  },
  {
   "cell_type": "code",
   "execution_count": 70,
   "metadata": {},
   "outputs": [],
   "source": [
    "#opening csv & reading in rows \n",
    "#some parts of this code was found on Python Docs (https://docs.python.org/3/library/csv.html)\n",
    "with open(filename, newline='') as csvfile:\n",
    "    lines = csv.reader(csvfile)\n",
    "    rows=[]\n",
    "    for row in lines:\n",
    "        rows.append(row)"
   ]
  },
  {
   "cell_type": "code",
   "execution_count": 71,
   "metadata": {},
   "outputs": [],
   "source": [
    "#converting the smokers to binary to be able to take the inverse/transpose\n",
    "i=0\n",
    "for elem in rows:\n",
    "    if(elem[1] == 'female'):\n",
    "        elem[1] = 0\n",
    "    if(elem[1] == 'male'):\n",
    "        elem[1] = 1\n",
    "        \n",
    "    if(elem[4] == 'yes'):\n",
    "        elem[4] = 1\n",
    "    if(elem[4] == 'no'):\n",
    "        elem[4] = 0\n",
    "    \n",
    "    if(elem[5] == 'southwest'):\n",
    "        elem[5] = 0\n",
    "    if(elem[5] == 'southeast'):\n",
    "        elem[5] = 1\n",
    "    if(elem[5] == 'northwest'):\n",
    "        elem[5] = 2\n",
    "    if(elem[5] == 'northeast'):\n",
    "        elem[5] = 3"
   ]
  },
  {
   "cell_type": "markdown",
   "metadata": {},
   "source": []
  },
  {
   "cell_type": "code",
   "execution_count": 72,
   "metadata": {},
   "outputs": [],
   "source": [
    "##to remove features\n",
    "age=[]\n",
    "#sex=[]\n",
    "bmi=[]\n",
    "#children=[]\n",
    "smoker=[]\n",
    "#region=[]\n",
    "charges=[]\n",
    "\n",
    "test_age=[]\n",
    "test_bmi=[]\n",
    "test_smoker=[]\n",
    "test_charges=[]\n",
    "\n",
    "train_age=[]\n",
    "train_bmi=[]\n",
    "train_smoker=[]\n",
    "train_charges=[]\n",
    "\n",
    "for thing in rows:\n",
    "    #print(thing)\n",
    "    age.append(thing[0])\n",
    "    #sex.append(thing[1])\n",
    "    bmi.append(thing[2])\n",
    "    #children.append(thing[3])\n",
    "    smoker.append(thing[4])\n",
    "    #region.append(thing[5])\n",
    "    charges.append(thing[6])\n",
    "    \n",
    "age.remove('age')\n",
    "#sex.remove('sex')\n",
    "bmi.remove('bmi')\n",
    "#children.remove('children')\n",
    "smoker.remove('smoker')\n",
    "#region.remove('region')\n",
    "charges.remove('charges')\n",
    "\n",
    "for i in range(0, 1070, 1):\n",
    "    train_age.append(age[i])\n",
    "    train_bmi.append(bmi[i])\n",
    "    train_smoker.append(smoker[i])\n",
    "    train_charges.append(charges[i])\n",
    "    \n",
    "for j in range(1071, 1339, 1):\n",
    "    #print(j)\n",
    "    test_age.append(age[i])\n",
    "    test_bmi.append(bmi[i])\n",
    "    test_smoker.append(smoker[i])\n",
    "    test_charges.append(charges[i])    "
   ]
  },
  {
   "cell_type": "code",
   "execution_count": 73,
   "metadata": {},
   "outputs": [],
   "source": [
    "###Converting the lists from strings to integers and floats\n",
    "##This function was found on the numpy docs (https://numpy.org/doc/stable/reference/generated/numpy.array.html)\n",
    "Xtrain = np.matrix((train_age, train_bmi,train_smoker), dtype=float)\n",
    "Xtest = np.matrix((test_age, test_bmi, test_smoker), dtype=float)\n",
    "\n",
    "Ytrain = np.matrix((train_charges), dtype=float)\n",
    "Ytest = np.matrix((test_charges), dtype=float)"
   ]
  },
  {
   "cell_type": "code",
   "execution_count": null,
   "metadata": {},
   "outputs": [],
   "source": []
  }
 ],
 "metadata": {
  "kernelspec": {
   "display_name": "Python 3",
   "language": "python",
   "name": "python3"
  },
  "language_info": {
   "codemirror_mode": {
    "name": "ipython",
    "version": 3
   },
   "file_extension": ".py",
   "mimetype": "text/x-python",
   "name": "python",
   "nbconvert_exporter": "python",
   "pygments_lexer": "ipython3",
   "version": "3.7.4"
  }
 },
 "nbformat": 4,
 "nbformat_minor": 2
}
