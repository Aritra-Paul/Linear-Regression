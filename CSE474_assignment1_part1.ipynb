{
 "cells": [
  {
   "cell_type": "code",
   "execution_count": 1,
   "metadata": {},
   "outputs": [],
   "source": [
    "import pandas as pd\n",
    "import numpy as np\n",
    "import csv\n",
    "import matplotlib.pyplot as plt"
   ]
  },
  {
   "cell_type": "code",
   "execution_count": 2,
   "metadata": {},
   "outputs": [],
   "source": [
    "filename = \"/Users/romi_sai/Desktop/College/Senior/Summer2021/CSE474/Assignments/Assignment1/insurance.csv\""
   ]
  },
  {
   "cell_type": "code",
   "execution_count": 3,
   "metadata": {},
   "outputs": [],
   "source": [
    "#opening csv & reading in rows \n",
    "#some parts of this code was found on Python Docs (https://docs.python.org/3/library/csv.html)\n",
    "with open(filename, newline='') as csvfile:\n",
    "    lines = csv.reader(csvfile)\n",
    "    rows=[]\n",
    "    for row in lines:\n",
    "        rows.append(row)"
   ]
  },
  {
   "cell_type": "code",
   "execution_count": 4,
   "metadata": {},
   "outputs": [],
   "source": [
    "#converting the smokers to binary to be able to take the inverse/transpose\n",
    "for elem in rows:\n",
    "    if(elem[4] == 'yes'):\n",
    "        elem[4] = 1\n",
    "    if(elem[4] == 'no'):\n",
    "        elem[4] = 0"
   ]
  },
  {
   "cell_type": "code",
   "execution_count": 5,
   "metadata": {},
   "outputs": [],
   "source": [
    "##Age, BMI and Smoker are the only features we are using!\n",
    "age=[]\n",
    "bmi=[]\n",
    "smoker=[]\n",
    "charges=[]\n",
    "test_age=[]\n",
    "test_bmi=[]\n",
    "test_smoker=[]\n",
    "test_charges=[]\n",
    "train_age=[]\n",
    "train_bmi=[]\n",
    "train_smoker=[]\n",
    "train_charges=[]\n",
    "train_bias=[]\n",
    "test_bias=[]\n",
    "\n",
    "#Converting the age, bmi, smoker and charges to lists for easy access\n",
    "for thing in rows:\n",
    "    age.append(thing[0])\n",
    "    bmi.append(thing[2])\n",
    "    smoker.append(thing[4])\n",
    "    charges.append(thing[6])\n",
    "    \n",
    "#removing the labels (0 row) from all the lists so we are working with numbers only.    \n",
    "age.remove('age')\n",
    "bmi.remove('bmi')\n",
    "smoker.remove('smoker')\n",
    "charges.remove('charges')\n",
    "\n",
    "#print(len(age))\n",
    "\n",
    "#defining the train and test datasets for the features: age, bmi and smoker for X and charges for Y\n",
    "for i in range(0, 1070, 1):\n",
    "    train_bias.append(1)\n",
    "    train_age.append(age[i])\n",
    "    train_bmi.append(bmi[i])\n",
    "    train_smoker.append(smoker[i])\n",
    "    train_charges.append(charges[i])\n",
    "    \n",
    "for j in range(1070, 1338, 1):\n",
    "    #print(j)\n",
    "    test_bias.append(1)\n",
    "    test_age.append(age[j])\n",
    "    test_bmi.append(bmi[j])\n",
    "    test_smoker.append(smoker[j])\n",
    "    test_charges.append(charges[j]) \n"
   ]
  },
  {
   "cell_type": "markdown",
   "metadata": {},
   "source": [
    "# I manipulated these matrices according to my need. Is this okay?"
   ]
  },
  {
   "cell_type": "code",
   "execution_count": 6,
   "metadata": {},
   "outputs": [
    {
     "data": {
      "text/plain": [
       "(268, 4)"
      ]
     },
     "execution_count": 6,
     "metadata": {},
     "output_type": "execute_result"
    }
   ],
   "source": [
    "###Converting the lists from strings to integers and floats\n",
    "##This function was found on the numpy docs (https://numpy.org/doc/stable/reference/generated/numpy.matrix.html)\n",
    "Xtrain = np.matrix((train_bias, train_age, train_bmi,train_smoker), dtype=float)\n",
    "Xtrain = Xtrain.transpose()\n",
    "\n",
    "Xtest = np.matrix((test_bias, test_age, test_bmi, test_smoker), dtype=float)\n",
    "Xtest = Xtest.transpose()\n",
    "\n",
    "Ytrain = np.matrix((train_charges), dtype=float)\n",
    "Ytrain = Ytrain.transpose()\n",
    "\n",
    "Ytest = np.matrix((test_charges), dtype=float)\n",
    "Ytest = Ytest.transpose()"
   ]
  },
  {
   "cell_type": "markdown",
   "metadata": {},
   "source": [
    "# Step 1: Find w using only TRAINING DATA (w=Xt y [Xt X]^-1)"
   ]
  },
  {
   "cell_type": "code",
   "execution_count": 7,
   "metadata": {},
   "outputs": [
    {
     "name": "stdout",
     "output_type": "stream",
     "text": [
      "The Weight Vector is: \n",
      "\n"
     ]
    },
    {
     "data": {
      "text/plain": [
       "matrix([[-11853.16958248],\n",
       "        [   261.77032429],\n",
       "        [   323.81304386],\n",
       "        [ 23619.60977643]])"
      ]
     },
     "execution_count": 7,
     "metadata": {},
     "output_type": "execute_result"
    }
   ],
   "source": [
    "Xtrain_t = Xtrain.transpose()\n",
    "Xtrain_inv = np.dot(Xtrain_t, Xtrain)\n",
    "Xtrain_inv = np.linalg.inv(Xtrain_inv)\n",
    "first_term = np.dot(Xtrain_inv, Xtrain_t)\n",
    "w = np.dot(first_term, Ytrain)\n",
    "wt = w.transpose()\n",
    "\n",
    "##Is the transposing of w okay? How could I know?\n",
    "\n",
    "print(\"The Weight Vector is: \\n\")\n",
    "w"
   ]
  },
  {
   "cell_type": "markdown",
   "metadata": {},
   "source": [
    "# Step 2: Find y hat using only TESTING DATA"
   ]
  },
  {
   "cell_type": "code",
   "execution_count": 8,
   "metadata": {},
   "outputs": [],
   "source": [
    "Ypred=[]\n",
    "\n",
    "wt = wt.transpose()\n",
    "\n",
    "##Run from 0 to 268\n",
    "\n",
    "term = np.dot(wt, Xtest[0])\n",
    "Ypred.append(term)"
   ]
  },
  {
   "cell_type": "code",
   "execution_count": null,
   "metadata": {},
   "outputs": [],
   "source": []
  }
 ],
 "metadata": {
  "kernelspec": {
   "display_name": "Python 3",
   "language": "python",
   "name": "python3"
  },
  "language_info": {
   "codemirror_mode": {
    "name": "ipython",
    "version": 3
   },
   "file_extension": ".py",
   "mimetype": "text/x-python",
   "name": "python",
   "nbconvert_exporter": "python",
   "pygments_lexer": "ipython3",
   "version": "3.7.4"
  }
 },
 "nbformat": 4,
 "nbformat_minor": 2
}
