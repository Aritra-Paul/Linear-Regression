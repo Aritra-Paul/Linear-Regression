{
 "cells": [
  {
   "cell_type": "code",
   "execution_count": 1,
   "metadata": {},
   "outputs": [],
   "source": [
    "import pandas as pd\n",
    "import numpy as np\n",
    "import csv\n",
    "import matplotlib.pyplot as plt\n",
    "#from sklearn.linear_model import LinearRegression, LogisticRegression, Ridge"
   ]
  },
  {
   "cell_type": "code",
   "execution_count": 2,
   "metadata": {},
   "outputs": [],
   "source": [
    "filename = \"/Users/romi_sai/Desktop/College/Senior/Summer2021/CSE474/Assignments/Assignment1/insurance.csv\""
   ]
  },
  {
   "cell_type": "code",
   "execution_count": 3,
   "metadata": {},
   "outputs": [],
   "source": [
    "#opening csv & reading in rows \n",
    "#some parts of this code was found on Python Docs (https://docs.python.org/3/library/csv.html)\n",
    "with open(filename, newline='') as csvfile:\n",
    "    lines = csv.reader(csvfile)\n",
    "    rows=[]\n",
    "    for row in lines:\n",
    "        rows.append(row)"
   ]
  },
  {
   "cell_type": "code",
   "execution_count": 4,
   "metadata": {},
   "outputs": [],
   "source": [
    "#converting the smokers to binary to be able to take the inverse/transpose\n",
    "for elem in rows:\n",
    "    if(elem[4] == 'yes'):\n",
    "        elem[4] = 1\n",
    "    if(elem[4] == 'no'):\n",
    "        elem[4] = 0"
   ]
  },
  {
   "cell_type": "markdown",
   "metadata": {},
   "source": []
  },
  {
   "cell_type": "code",
   "execution_count": 5,
   "metadata": {},
   "outputs": [],
   "source": [
    "##Age, BMI and Smoker are the only features we are using!\n",
    "age=[]\n",
    "bmi=[]\n",
    "smoker=[]\n",
    "charges=[]\n",
    "test_age=[]\n",
    "test_bmi=[]\n",
    "test_smoker=[]\n",
    "test_charges=[]\n",
    "train_age=[]\n",
    "train_bmi=[]\n",
    "train_smoker=[]\n",
    "train_charges=[]\n",
    "\n",
    "#Converting the age, bmi, smoker and charges to lists for easy access\n",
    "for thing in rows:\n",
    "    age.append(thing[0])\n",
    "    bmi.append(thing[2])\n",
    "    smoker.append(thing[4])\n",
    "    charges.append(thing[6])\n",
    "    \n",
    "#removing the labels (0 row) from all the lists so we are working with numbers only.    \n",
    "age.remove('age')\n",
    "bmi.remove('bmi')\n",
    "smoker.remove('smoker')\n",
    "charges.remove('charges')\n",
    "\n",
    "#defining the train and test datasets for the features: age, bmi and smoker for X and charges for Y\n",
    "for i in range(0, 1070, 1):\n",
    "    train_age.append(age[i])\n",
    "    train_bmi.append(bmi[i])\n",
    "    train_smoker.append(smoker[i])\n",
    "    train_charges.append(charges[i])\n",
    "    \n",
    "for j in range(1071, 1339, 1):\n",
    "    #print(j)\n",
    "    test_age.append(age[i])\n",
    "    test_bmi.append(bmi[i])\n",
    "    test_smoker.append(smoker[i])\n",
    "    test_charges.append(charges[i])    "
   ]
  },
  {
   "cell_type": "code",
   "execution_count": 6,
   "metadata": {},
   "outputs": [],
   "source": [
    "###Converting the lists from strings to integers and floats\n",
    "##This function was found on the numpy docs (https://numpy.org/doc/stable/reference/generated/numpy.matrix.html)\n",
    "Xtrain = np.matrix((train_age, train_bmi,train_smoker), dtype=float)\n",
    "Xtest = np.matrix((test_age, test_bmi, test_smoker), dtype=float)\n",
    "\n",
    "Ytrain = np.matrix((train_charges), dtype=float)\n",
    "Ytest = np.matrix((test_charges), dtype=float)"
   ]
  },
  {
   "cell_type": "code",
   "execution_count": null,
   "metadata": {},
   "outputs": [],
   "source": []
  }
 ],
 "metadata": {
  "kernelspec": {
   "display_name": "Python 3",
   "language": "python",
   "name": "python3"
  },
  "language_info": {
   "codemirror_mode": {
    "name": "ipython",
    "version": 3
   },
   "file_extension": ".py",
   "mimetype": "text/x-python",
   "name": "python",
   "nbconvert_exporter": "python",
   "pygments_lexer": "ipython3",
   "version": "3.7.4"
  }
 },
 "nbformat": 4,
 "nbformat_minor": 2
}
