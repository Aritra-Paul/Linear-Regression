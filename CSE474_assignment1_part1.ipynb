{
 "cells": [
  {
   "cell_type": "code",
   "execution_count": 10,
   "metadata": {},
   "outputs": [],
   "source": [
    "import pandas as pd\n",
    "import numpy as np\n",
    "import csv\n",
    "import matplotlib.pyplot as plt\n",
    "from sklearn.linear_model import LinearRegression, LogisticRegression, Ridge"
   ]
  },
  {
   "cell_type": "code",
   "execution_count": 11,
   "metadata": {},
   "outputs": [],
   "source": [
    "filename = \"/Users/romi_sai/Desktop/College/Senior/Summer2021/CSE474/Assignments/Assignment1/insurance.csv\""
   ]
  },
  {
   "cell_type": "code",
   "execution_count": 12,
   "metadata": {},
   "outputs": [],
   "source": [
    "#opening csv & reading in rows \n",
    "#some parts of this code was found on Python Docs (https://docs.python.org/3/library/csv.html)\n",
    "with open(filename, newline='') as csvfile:\n",
    "    lines = csv.reader(csvfile)\n",
    "    rows=[]\n",
    "    for row in lines:\n",
    "        rows.append(row)"
   ]
  },
  {
   "cell_type": "code",
   "execution_count": 13,
   "metadata": {},
   "outputs": [],
   "source": [
    "#converting the smokers to binary to be able to take the inverse/transpose\n",
    "i=0\n",
    "for elem in rows:\n",
    "    if(elem[1] == 'female'):\n",
    "        elem[1] = '0'\n",
    "    if(elem[1] == 'male'):\n",
    "        elem[1] = '1'\n",
    "        \n",
    "    if(elem[4] == 'yes'):\n",
    "        elem[4] = '1'\n",
    "    if(elem[4] == 'no'):\n",
    "        elem[4] = '0'\n",
    "    \n",
    "    if(elem[5] == 'southwest'):\n",
    "        elem[5] = '0'\n",
    "    if(elem[5] == 'southeast'):\n",
    "        elem[5] = '1'\n",
    "    if(elem[5] == 'northwest'):\n",
    "        elem[5] = '2'\n",
    "    if(elem[5] == 'northeast'):\n",
    "        elem[5] = '3'"
   ]
  },
  {
   "cell_type": "code",
   "execution_count": 14,
   "metadata": {},
   "outputs": [
    {
     "name": "stdout",
     "output_type": "stream",
     "text": [
      "Correlation Matrix:\n",
      "                age       sex       bmi  children    smoker    region   charges\n",
      "age       1.000000 -0.020856  0.109272  0.042469 -0.025019 -0.002127  0.299008\n",
      "sex      -0.020856  1.000000  0.046371  0.017163  0.076185 -0.004588  0.057292\n",
      "bmi       0.109272  0.046371  1.000000  0.012759  0.003750 -0.157566  0.198341\n",
      "children  0.042469  0.017163  0.012759  1.000000  0.007673 -0.016569  0.067998\n",
      "smoker   -0.025019  0.076185  0.003750  0.007673  1.000000  0.002181  0.787251\n",
      "region   -0.002127 -0.004588 -0.157566 -0.016569  0.002181  1.000000  0.006208\n",
      "charges   0.299008  0.057292  0.198341  0.067998  0.787251  0.006208  1.000000\n"
     ]
    }
   ],
   "source": [
    "age=[]\n",
    "sex=[]\n",
    "bmi=[]\n",
    "children=[]\n",
    "smoker=[]\n",
    "region=[]\n",
    "charges=[]\n",
    "\n",
    "for thing in rows:\n",
    "    age.append(thing[0])\n",
    "    sex.append(thing[1])\n",
    "    bmi.append(thing[2])\n",
    "    children.append(thing[3])\n",
    "    smoker.append(thing[4])\n",
    "    region.append(thing[5])\n",
    "    charges.append(thing[6])\n",
    "    \n",
    "age.remove('age')\n",
    "sex.remove('sex')\n",
    "bmi.remove('bmi')\n",
    "children.remove('children')\n",
    "smoker.remove('smoker')\n",
    "region.remove('region')\n",
    "charges.remove('charges')\n",
    "\n",
    "age = list(map(int, age))\n",
    "sex = list(map(int, sex))\n",
    "children = list(map(int, children))\n",
    "smoker = list(map(int, smoker))\n",
    "region = list(map(int, region))\n",
    "charges = list(map(float, charges))\n",
    "bmi = list(map(float, bmi))\n",
    "\n",
    "##Corr matrix\n",
    "data = pd.DataFrame({'age': age, 'sex': sex, 'bmi': bmi, 'children': children, 'smoker': smoker, 'region': region, 'charges': charges})\n",
    "\n",
    "correlation_matrix = data.corr()\n",
    "print('Correlation Matrix:\\n', correlation_matrix)"
   ]
  },
  {
   "cell_type": "code",
   "execution_count": 23,
   "metadata": {},
   "outputs": [
    {
     "name": "stdout",
     "output_type": "stream",
     "text": [
      "Total Variance: [1.46542766e+08]\n",
      "Unexplained Variance: [1.46537118e+08]\n",
      "R-Squared Value: [3.85421807e-05]\n"
     ]
    }
   ],
   "source": [
    "# Calculating the variance around the mean salary.\n",
    "mean_charges = np.mean(charges)\n",
    "sum_of_squares_around_mean_charges = 0\n",
    "for i in range(len(charges)):\n",
    "    sum_of_squares_around_mean_charges += (charges[i] - mean_charges) ** 2\n",
    "total_variance = sum_of_squares_around_mean_charges / len(charges)\n",
    "print('Total Variance:', total_variance)\n",
    "\n",
    "# Fitting a least squares line to the data.\n",
    "charges = np.asarray(charges).reshape(-1, 1)\n",
    "region = np.asarray(region).reshape(-1, 1)\n",
    "\n",
    "linear_regression = LinearRegression()\n",
    "linear_regression.fit(region, charges)\n",
    "\n",
    "# Calculating the variance around the least squares line.\n",
    "predictions = linear_regression.predict(region)\n",
    "sum_of_squares_around_fit = 0\n",
    "for i in range(len(charges)):\n",
    "    sum_of_squares_around_fit += (charges[i] - predictions[i]) ** 2\n",
    "unexplained_variance = sum_of_squares_around_fit / len(charges)\n",
    "print('Unexplained Variance:', unexplained_variance)\n",
    "\n",
    "# Calculating the R-Squared value.\n",
    "r_squared = (total_variance - unexplained_variance) / total_variance\n",
    "print('R-Squared Value:', r_squared)"
   ]
  },
  {
   "cell_type": "code",
   "execution_count": null,
   "metadata": {},
   "outputs": [],
   "source": []
  },
  {
   "cell_type": "code",
   "execution_count": null,
   "metadata": {},
   "outputs": [],
   "source": []
  },
  {
   "cell_type": "code",
   "execution_count": null,
   "metadata": {},
   "outputs": [],
   "source": []
  },
  {
   "cell_type": "code",
   "execution_count": null,
   "metadata": {},
   "outputs": [],
   "source": [
    "#defining the training and testing datasets using lists, train = rows 1-1070 (80%) and test = rows 1071-1338 (20%)\n",
    "#setting the y list for the train and test datasets\n",
    "train=[]\n",
    "test=[]\n",
    "y_train=[]\n",
    "y_test=[]\n",
    "#y_train.append(rows[0][6])\n",
    "for i in range(1, 1071, 1):\n",
    "    train.append(rows[i])\n",
    "    y_train.append(rows[i][7])\n",
    "\n",
    "for j in range(1071, 1339, 1):\n",
    "    test.append(rows[j])\n",
    "    y_test.append(rows[j][7])"
   ]
  },
  {
   "cell_type": "code",
   "execution_count": null,
   "metadata": {},
   "outputs": [],
   "source": [
    "#defining x train and test, to find x matrices for the two datasets\n",
    "x_train=[]\n",
    "x_test=[]\n",
    "for things in train:\n",
    "    things.remove(things[7])\n",
    "    x_train.append(things)\n",
    "\n",
    "for stuff in test:\n",
    "    stuff.remove(stuff[7])\n",
    "    x_test.append(stuff)"
   ]
  },
  {
   "cell_type": "code",
   "execution_count": null,
   "metadata": {},
   "outputs": [],
   "source": [
    "#defining x and y matrices for the two datasets using numpy\n",
    "#this function was found on numpy docs \n",
    "xtest_matrix = np.matrix(x_test)\n",
    "xtrain_matrix = np.matrix(x_train)\n",
    "\n",
    "ytest_matrix=np.matrix(y_test)\n",
    "ytrain_matrix=np.matrix(y_train)"
   ]
  },
  {
   "cell_type": "code",
   "execution_count": null,
   "metadata": {},
   "outputs": [],
   "source": [
    "##Step1: Find w using w = (y Xt)(Xt X)^-1 [USING ONLY TRAINING DATA]\n",
    "xtrain_t = xtrain_matrix.transpose()\n",
    "xtrain_t"
   ]
  },
  {
   "cell_type": "code",
   "execution_count": null,
   "metadata": {},
   "outputs": [],
   "source": []
  }
 ],
 "metadata": {
  "kernelspec": {
   "display_name": "Python 3",
   "language": "python",
   "name": "python3"
  },
  "language_info": {
   "codemirror_mode": {
    "name": "ipython",
    "version": 3
   },
   "file_extension": ".py",
   "mimetype": "text/x-python",
   "name": "python",
   "nbconvert_exporter": "python",
   "pygments_lexer": "ipython3",
   "version": "3.7.4"
  }
 },
 "nbformat": 4,
 "nbformat_minor": 2
}
